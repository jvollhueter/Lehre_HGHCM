{
 "cells": [
  {
   "cell_type": "markdown",
   "id": "bebb59d6",
   "metadata": {},
   "source": [
    "Importieren der benötigten Bibliothek:\n",
    "\n",
    "\n",
    "<a href=\"https://pandas.pydata.org/docs/\">Link zur Dokumentation der Bibliothek</a>"
   ]
  },
  {
   "cell_type": "code",
   "execution_count": 14,
   "id": "f132e869",
   "metadata": {},
   "outputs": [],
   "source": [
    "import pandas as pd"
   ]
  },
  {
   "cell_type": "markdown",
   "id": "c7f3dac6",
   "metadata": {},
   "source": [
    "Definieren der Variable 'file':\n",
    "\n",
    "Die Variable speichert den Dateipfad zur Eingangsdatei.\n",
    "Das r vor dem Dateipfad definiert diesen als 'raw string', womit so genannte Escape-Sequenzen nicht ausgeführt werden."
   ]
  },
  {
   "cell_type": "code",
   "execution_count": 15,
   "id": "2fdf1159",
   "metadata": {},
   "outputs": [],
   "source": [
    "file = r'your/path/to/Nitrat.xlsx'"
   ]
  },
  {
   "cell_type": "markdown",
   "id": "d2639969",
   "metadata": {},
   "source": [
    "Variable 'datas' (pandas dataframe):\n",
    "\n",
    "Pandas (pd)-Funktion read_excel: Einlesen von Excel-Dateien:\n",
    "- file: Dateipfad zu Datei<br>\n",
    "- skiprow=6: Erste 6 Zeilen werden beim Einlesen uebersprungen<br>\n",
    "    \n",
    "<a href=\"https://pandas.pydata.org/pandas-docs/stable/reference/api/pandas.read_excel.html\">Link zur Dokumentation</a>"
   ]
  },
  {
   "cell_type": "code",
   "execution_count": 17,
   "id": "d96a7324",
   "metadata": {
    "scrolled": true
   },
   "outputs": [],
   "source": [
    "datas = pd.read_excel(file, skiprows=6, engine='openpyxl')"
   ]
  },
  {
   "cell_type": "markdown",
   "id": "ef2fb6b5",
   "metadata": {},
   "source": [
    "Variable 'Parameter' (string):\n",
    "\n",
    "Inhalt der Variable wird am Ende in Name der Ergebnisdatei geschrieben.\n",
    "Dabei steht ['Parameter'] für den Namen der Spalte und [0] indiziert die Reihe.\n",
    "Bitte beachten: Python-Indizies beginnen immer bei 0.\n",
    "Bei Excel wäre die Zeile 0 also Zeile 1"
   ]
  },
  {
   "cell_type": "code",
   "execution_count": 18,
   "id": "a5f68071",
   "metadata": {},
   "outputs": [],
   "source": [
    "parameter = datas['Parameter'][0]"
   ]
  },
  {
   "cell_type": "markdown",
   "id": "1f48689c",
   "metadata": {},
   "source": [
    "Variable mean_MKZ (pandas Dataframe) und mean_year (pandas Dataframe):\n",
    "\n",
    "- Gruppieren der Variable 'datas' nach Spalte 'MKZ' (.groupby) und <br>\n",
    "- Bildung von Mittelwerten innerhalb jeder Gruppe (.mean) sowie<br>\n",
    "- loeschen der Spalte 'Probenbezug' (.drop)\n",
    "\n",
    ".mean ist dabei eine sogenannte built-in Funktion und ist Bestandteil der Python-Standardbibliothek. \n",
    "\n",
    "Links zu den Dokumentationen:<br>\n",
    "- <a href=\"https://pandas.pydata.org/pandas-docs/stable/reference/api/pandas.DataFrame.groupby.html\">Link zur Dokumentation .groupby</a><br>\n",
    "- <a href=\"https://pandas.pydata.org/docs/reference/api/pandas.DataFrame.drop.html\">Link zur Dokumentation .drop</a>\n",
    "\n",
    "Die dritte Zeile stellt eine Besonderheit dar:<br>\n",
    "Trivial ausgedrueckt werden alle Spalten aus dem Dataframe 'mean-year' geloescht, außer die Spalte 'Ergebnis'.\n",
    "Im Detail wird die Variable 'mean_year' mit einem Dataframe bestehend aus der Spalte 'Ergebnis' des dataframes 'mean_years' überschrieben."
   ]
  },
  {
   "cell_type": "code",
   "execution_count": 19,
   "id": "1bd5f201",
   "metadata": {},
   "outputs": [],
   "source": [
    "mean_MKZ = datas.groupby(['MKZ']).mean().drop(columns=['Probenbezug'])\n",
    "\n",
    "mean_year = datas.groupby(['Jahr']).mean()\n",
    "\n",
    "mean_year = mean_year[['Ergebnis']]"
   ]
  },
  {
   "cell_type": "markdown",
   "id": "3bdf322c",
   "metadata": {},
   "source": [
    "Hinzufuegen einer neuen Spalte 'Einheit' in den dataframes 'mean_MKZ' und 'mean_year' mit dem Wert aus dem dataframe 'datas' in der Spalte 'Einheit' und der Zeile 0.<br>\n",
    "Erneuter Hinweis: Indexing in Python beginnt immer bei 0, in z.B. Excel waere das also Zeile 1)"
   ]
  },
  {
   "cell_type": "code",
   "execution_count": 20,
   "id": "b486ebd3",
   "metadata": {},
   "outputs": [],
   "source": [
    "mean_MKZ['Einheit'] = datas['Einheit'][0]\n",
    "mean_year['Einheit'] = datas['Einheit'][0]"
   ]
  },
  {
   "cell_type": "markdown",
   "id": "6ac23eb4",
   "metadata": {},
   "source": [
    "Hinzufuegen einer neuen Spalte 'n_Messwerte' in den dataframes 'mean_MKZ' und 'mean_year' mit der Haeufigkeit des Auftretens jeden Wertes in der Spalte 'Jahr' im Dataframe 'datas' mit Hilfe der pandas Funktion '.size'.\n",
    "\n",
    "<a href=\"https://pandas.pydata.org/docs/reference/api/pandas.DataFrame.size.html\">Link zur Dokumentation .size</a>"
   ]
  },
  {
   "cell_type": "code",
   "execution_count": 21,
   "id": "d45d0b4d",
   "metadata": {},
   "outputs": [],
   "source": [
    "mean_year['n_Messwerte'] = datas.groupby(['Jahr']).size()\n",
    "mean_MKZ['n_Messwerte'] = datas.groupby(['MKZ']).size()"
   ]
  },
  {
   "cell_type": "markdown",
   "id": "b596b394",
   "metadata": {},
   "source": [
    "Mit Hilfe der pandas-Funktion ExcelWriter() werden die beiden Dataframes 'mean_MKZ' und 'mean_year' in eine xlsx-Datei geschrieben.\n",
    "Dabei bekommt jedes der beiden Dataframes ein eigenes Tabellenblatt (steet_name).\n",
    "Der Dateiname setzt sich zusammen aus 'output_\\<InhaltVariableParameter>.xlsx'"
   ]
  },
  {
   "cell_type": "code",
   "execution_count": 23,
   "id": "95c31767",
   "metadata": {},
   "outputs": [],
   "source": [
    "with pd.ExcelWriter('path/to/your/outputfolder/output_' + parameter + '.xlsx') as writer:\n",
    "    mean_MKZ.to_excel(writer, sheet_name='Mittelwerte_Messstellen')\n",
    "    mean_year.to_excel(writer, sheet_name='Jahresmittelwerte')"
   ]
  },
  {
   "cell_type": "code",
   "execution_count": null,
   "id": "afd42902",
   "metadata": {},
   "outputs": [],
   "source": []
  }
 ],
 "metadata": {
  "kernelspec": {
   "display_name": "Python 3",
   "language": "python",
   "name": "python3"
  },
  "language_info": {
   "codemirror_mode": {
    "name": "ipython",
    "version": 3
   },
   "file_extension": ".py",
   "mimetype": "text/x-python",
   "name": "python",
   "nbconvert_exporter": "python",
   "pygments_lexer": "ipython3",
   "version": "3.6.9"
  }
 },
 "nbformat": 4,
 "nbformat_minor": 5
}
